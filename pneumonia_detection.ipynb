{
 "cells": [
  {
   "cell_type": "code",
   "execution_count": 1,
   "metadata": {
    "id": "dKMxwCN9SQRQ"
   },
   "outputs": [],
   "source": [
    "# !nvidia-smi\n",
    "# !pip uninstall tensorflow -y\n",
    "# !pip install tensorflow-gpu==2.5.0"
   ]
  },
  {
   "cell_type": "code",
   "execution_count": 2,
   "metadata": {
    "id": "HSUvOtSfTezK"
   },
   "outputs": [],
   "source": [
    "import glob\n",
    "import os\n",
    "import numpy as np\n",
    "import pandas as pd\n",
    "import matplotlib.pyplot as plt\n",
    "import seaborn as sns\n",
    "%matplotlib inline\n",
    "\n",
    "import tensorflow as tf\n",
    "from tensorflow import keras\n",
    "from tensorflow.keras.applications import VGG16\n",
    "from tensorflow.keras.preprocessing.image import ImageDataGenerator"
   ]
  },
  {
   "cell_type": "code",
   "execution_count": 4,
   "metadata": {
    "id": "_RAlu3oMT6Ib"
   },
   "outputs": [],
   "source": [
    "dir_path = \"/content/data/data\"\n",
    "\n",
    "\n",
    "''' training path '''\n",
    "train_p = os.path.join(dir_path, \"train\")\n",
    "\n",
    "''' test path '''\n",
    "test_p =os.path.join(dir_path, \"test\")\n",
    "\n",
    "''' val path '''\n",
    "val_p = os.path.join(dir_path, \"val\")\n",
    "\n",
    "\n",
    "''' PNEUMONIA images '''\n",
    "p_train_images = glob.glob(train_p + \"/PNEUMONIA/*.jpeg\")\n",
    "\n",
    "''' NORMAL  images '''\n",
    "n_train_images = glob.glob(train_p + \"/NORMAL/*.jpeg\")"
   ]
  },
  {
   "cell_type": "code",
   "execution_count": null,
   "metadata": {
    "id": "tK3KPD1aUYhG"
   },
   "outputs": [],
   "source": [
    "!unzip \"/content/drive/MyDrive/Colab Notebooks/Data/data.zip\" -d 'data'"
   ]
  },
  {
   "cell_type": "code",
   "execution_count": 5,
   "metadata": {
    "colab": {
     "base_uri": "https://localhost:8080/",
     "height": 335
    },
    "id": "4CPUxvyFT-ZS",
    "outputId": "3765734b-6e17-4c5e-8d95-dc2571969644"
   },
   "outputs": [
    {
     "name": "stderr",
     "output_type": "stream",
     "text": [
      "/usr/local/lib/python3.7/dist-packages/seaborn/_decorators.py:43: FutureWarning: Pass the following variable as a keyword arg: x. From version 0.12, the only valid positional argument will be `data`, and passing other arguments without an explicit keyword will result in an error or misinterpretation.\n",
      "  FutureWarning\n"
     ]
    },
    {
     "data": {
      "image/png": "[encoded data removed]",
      "text/plain": [
       "<Figure size 432x288 with 1 Axes>"
      ]
     },
     "metadata": {
      "needs_background": "light"
     },
     "output_type": "display_data"
    }
   ],
   "source": [
    "df = pd.DataFrame(np.concatenate([[0]*len(n_train_images) , [1] *  len(p_train_images)]),columns=[\"class\"])\n",
    "sns.countplot(df['class'],data=df)\n",
    "plt.show()"
   ]
  },
  {
   "cell_type": "code",
   "execution_count": 6,
   "metadata": {
    "id": "NCmLYKIUUAnM"
   },
   "outputs": [],
   "source": [
    "''' Data Augmentation '''\n",
    "train_ds = ImageDataGenerator(rescale =1/255, shear_range=10, zoom_range = 0.2, horizontal_flip = True, \n",
    "                              width_shift_range=0.2, fill_mode = 'nearest')\n",
    "\n",
    "val_datagen = ImageDataGenerator(rescale = 1/255)"
   ]
  },
  {
   "cell_type": "code",
   "execution_count": 7,
   "metadata": {
    "colab": {
     "base_uri": "https://localhost:8080/"
    },
    "id": "b3C7wu8fUDJV",
    "outputId": "9bacedc2-e028-4914-95a0-9c4ac57b5150"
   },
   "outputs": [
    {
     "name": "stdout",
     "output_type": "stream",
     "text": [
      "Downloading data from https://storage.googleapis.com/tensorflow/keras-applications/vgg16/vgg16_weights_tf_dim_ordering_tf_kernels_notop.h5\n",
      "58892288/58889256 [==============================] - 0s 0us/step\n",
      "58900480/58889256 [==============================] - 0s 0us/step\n"
     ]
    }
   ],
   "source": [
    "''' VGG16 Model '''\n",
    "\n",
    "model1 = VGG16(include_top = False,weights='imagenet')\n",
    "\n",
    "''' freezing layers '''\n",
    "for i in model1.layers:\n",
    "    i.trainable=False\n",
    "    \n",
    "out = model1.output\n",
    "\n",
    "''' GlobalAveragePooling Layer '''\n",
    "out = keras.layers.GlobalAveragePooling2D()(out)\n",
    "out = keras.layers.Dense(128, activation='relu')(out)\n",
    "\n",
    "''' Classification Layer '''\n",
    "pred = keras.layers.Dense(1, activation='sigmoid')(out)\n",
    "\n",
    "''' final model '''\n",
    "model= keras.Model(model1.input, pred)\n",
    "\n",
    "lr = 0.1\n",
    "lr_schedule = tf.keras.optimizers.schedules.ExponentialDecay(lr, decay_steps=100000, decay_rate=0.96, staircase=True)\n",
    "\n",
    "''' Compile the model '''\n",
    "model.compile(loss='binary_crossentropy', optimizer=tf.keras.optimizers.RMSprop(lr_schedule), metrics=['accuracy'])"
   ]
  },
  {
   "cell_type": "code",
   "execution_count": 8,
   "metadata": {
    "colab": {
     "base_uri": "https://localhost:8080/"
    },
    "id": "0AmtE0FTUNFG",
    "outputId": "ad4e6c6d-43c3-4346-c5c6-21271db613ac"
   },
   "outputs": [
    {
     "name": "stdout",
     "output_type": "stream",
     "text": [
      "Model: \"model\"\n",
      "_________________________________________________________________\n",
      " Layer (type)                Output Shape              Param #   \n",
      "=================================================================\n",
      " input_1 (InputLayer)        [(None, None, None, 3)]   0         \n",
      "                                                                 \n",
      " block1_conv1 (Conv2D)       (None, None, None, 64)    1792      \n",
      "                                                                 \n",
      " block1_conv2 (Conv2D)       (None, None, None, 64)    36928     \n",
      "                                                                 \n",
      " block1_pool (MaxPooling2D)  (None, None, None, 64)    0         \n",
      "                                                                 \n",
      " block2_conv1 (Conv2D)       (None, None, None, 128)   73856     \n",
      "                                                                 \n",
      " block2_conv2 (Conv2D)       (None, None, None, 128)   147584    \n",
      "                                                                 \n",
      " block2_pool (MaxPooling2D)  (None, None, None, 128)   0         \n",
      "                                                                 \n",
      " block3_conv1 (Conv2D)       (None, None, None, 256)   295168    \n",
      "                                                                 \n",
      " block3_conv2 (Conv2D)       (None, None, None, 256)   590080    \n",
      "                                                                 \n",
      " block3_conv3 (Conv2D)       (None, None, None, 256)   590080    \n",
      "                                                                 \n",
      " block3_pool (MaxPooling2D)  (None, None, None, 256)   0         \n",
      "                                                                 \n",
      " block4_conv1 (Conv2D)       (None, None, None, 512)   1180160   \n",
      "                                                                 \n",
      " block4_conv2 (Conv2D)       (None, None, None, 512)   2359808   \n",
      "                                                                 \n",
      " block4_conv3 (Conv2D)       (None, None, None, 512)   2359808   \n",
      "                                                                 \n",
      " block4_pool (MaxPooling2D)  (None, None, None, 512)   0         \n",
      "                                                                 \n",
      " block5_conv1 (Conv2D)       (None, None, None, 512)   2359808   \n",
      "                                                                 \n",
      " block5_conv2 (Conv2D)       (None, None, None, 512)   2359808   \n",
      "                                                                 \n",
      " block5_conv3 (Conv2D)       (None, None, None, 512)   2359808   \n",
      "                                                                 \n",
      " block5_pool (MaxPooling2D)  (None, None, None, 512)   0         \n",
      "                                                                 \n",
      " global_average_pooling2d (G  (None, 512)              0         \n",
      " lobalAveragePooling2D)                                          \n",
      "                                                                 \n",
      " dense (Dense)               (None, 128)               65664     \n",
      "                                                                 \n",
      " dense_1 (Dense)             (None, 1)                 129       \n",
      "                                                                 \n",
      "=================================================================\n",
      "Total params: 14,780,481\n",
      "Trainable params: 65,793\n",
      "Non-trainable params: 14,714,688\n",
      "_________________________________________________________________\n"
     ]
    }
   ],
   "source": [
    "''' lets see how model looks like '''\n",
    "model.summary()"
   ]
  },
  {
   "cell_type": "code",
   "execution_count": 9,
   "metadata": {
    "colab": {
     "base_uri": "https://localhost:8080/"
    },
    "id": "ZK2FXLpsUNkT",
    "outputId": "7245b3f9-cb7d-4d59-a403-05d1e86ca3f6"
   },
   "outputs": [
    {
     "name": "stdout",
     "output_type": "stream",
     "text": [
      "Found 5216 images belonging to 2 classes.\n",
      "Found 16 images belonging to 2 classes.\n",
      "Found 624 images belonging to 2 classes.\n"
     ]
    }
   ],
   "source": [
    "''' flow from directory '''\n",
    "train_ds = train_ds.flow_from_directory(train_p, target_size=(150,150), batch_size= 16, class_mode='binary')\n",
    "\n",
    "val_ds = val_datagen.flow_from_directory(val_p, target_size=(150,150),batch_size=8, class_mode='binary')\n",
    "\n",
    "tes_ds = val_datagen.flow_from_directory(test_p, target_size=(150,150), batch_size=32, class_mode='binary')"
   ]
  },
  {
   "cell_type": "code",
   "execution_count": 10,
   "metadata": {
    "colab": {
     "base_uri": "https://localhost:8080/"
    },
    "id": "20ssIKS_UPH0",
    "outputId": "6b3bbf0a-e309-4332-a068-84399430c5a3"
   },
   "outputs": [
    {
     "name": "stdout",
     "output_type": "stream",
     "text": [
      "Epoch 1/20\n",
      "100/100 [==============================] - 37s 244ms/step - loss: 2.0046 - accuracy: 0.7788 - val_loss: 0.5011 - val_accuracy: 0.6875\n",
      "Epoch 2/20\n",
      "100/100 [==============================] - 24s 243ms/step - loss: 0.4084 - accuracy: 0.8438 - val_loss: 0.2919 - val_accuracy: 0.9375\n",
      "Epoch 3/20\n",
      "100/100 [==============================] - 27s 269ms/step - loss: 0.3732 - accuracy: 0.8750 - val_loss: 0.2070 - val_accuracy: 0.9375\n",
      "Epoch 4/20\n",
      "100/100 [==============================] - 26s 261ms/step - loss: 0.3278 - accuracy: 0.8813 - val_loss: 0.3124 - val_accuracy: 0.8750\n",
      "Epoch 5/20\n",
      "100/100 [==============================] - 24s 237ms/step - loss: 0.3070 - accuracy: 0.9081 - val_loss: 1.1987 - val_accuracy: 0.6875\n",
      "Epoch 6/20\n",
      "100/100 [==============================] - 25s 248ms/step - loss: 0.3340 - accuracy: 0.8831 - val_loss: 0.2499 - val_accuracy: 0.8750\n",
      "Epoch 7/20\n",
      "100/100 [==============================] - 24s 236ms/step - loss: 0.2592 - accuracy: 0.9112 - val_loss: 0.3663 - val_accuracy: 0.8750\n",
      "Epoch 8/20\n",
      "100/100 [==============================] - 24s 237ms/step - loss: 0.2860 - accuracy: 0.9094 - val_loss: 0.6342 - val_accuracy: 0.7500\n",
      "Epoch 9/20\n",
      "100/100 [==============================] - 23s 234ms/step - loss: 0.2413 - accuracy: 0.9144 - val_loss: 0.2790 - val_accuracy: 0.8125\n",
      "Epoch 10/20\n",
      "100/100 [==============================] - 24s 239ms/step - loss: 0.2614 - accuracy: 0.9000 - val_loss: 0.5440 - val_accuracy: 0.8125\n",
      "Epoch 11/20\n",
      "100/100 [==============================] - 24s 236ms/step - loss: 0.2530 - accuracy: 0.9056 - val_loss: 0.4761 - val_accuracy: 0.8125\n",
      "Epoch 12/20\n",
      "100/100 [==============================] - 23s 234ms/step - loss: 0.2425 - accuracy: 0.9062 - val_loss: 0.6803 - val_accuracy: 0.8125\n",
      "Epoch 13/20\n",
      "100/100 [==============================] - 23s 235ms/step - loss: 0.2204 - accuracy: 0.9212 - val_loss: 0.2955 - val_accuracy: 0.8750\n",
      "Epoch 14/20\n",
      "100/100 [==============================] - 24s 237ms/step - loss: 0.2400 - accuracy: 0.9131 - val_loss: 0.3962 - val_accuracy: 0.8750\n",
      "Epoch 15/20\n",
      "100/100 [==============================] - 23s 234ms/step - loss: 0.2412 - accuracy: 0.9100 - val_loss: 0.3307 - val_accuracy: 0.8750\n",
      "Epoch 16/20\n",
      "100/100 [==============================] - 23s 233ms/step - loss: 0.2306 - accuracy: 0.9144 - val_loss: 0.4597 - val_accuracy: 0.8750\n",
      "Epoch 17/20\n",
      "100/100 [==============================] - 23s 233ms/step - loss: 0.2392 - accuracy: 0.9112 - val_loss: 0.2660 - val_accuracy: 0.8750\n",
      "Epoch 18/20\n",
      "100/100 [==============================] - 24s 236ms/step - loss: 0.2112 - accuracy: 0.9175 - val_loss: 0.3852 - val_accuracy: 0.8125\n",
      "Epoch 19/20\n",
      "100/100 [==============================] - 23s 227ms/step - loss: 0.2410 - accuracy: 0.9150 - val_loss: 0.2197 - val_accuracy: 0.9375\n",
      "Epoch 20/20\n",
      "100/100 [==============================] - 23s 234ms/step - loss: 0.2167 - accuracy: 0.9250 - val_loss: 0.1639 - val_accuracy: 0.9375\n"
     ]
    }
   ],
   "source": [
    "''' training '''\n",
    "history = model.fit(train_ds, steps_per_epoch = 100, epochs=20, validation_data=val_ds)"
   ]
  },
  {
   "cell_type": "code",
   "execution_count": 12,
   "metadata": {
    "colab": {
     "base_uri": "https://localhost:8080/"
    },
    "id": "1hpT3PGLWeoi",
    "outputId": "b81afaed-be93-455d-ad7f-d16e838c6d6a"
   },
   "outputs": [
    {
     "name": "stderr",
     "output_type": "stream",
     "text": [
      "/usr/local/lib/python3.7/dist-packages/ipykernel_launcher.py:2: UserWarning: `Model.evaluate_generator` is deprecated and will be removed in a future version. Please use `Model.evaluate`, which supports generators.\n",
      "  \n",
      "WARNING:tensorflow:Your input ran out of data; interrupting training. Make sure that your dataset or generator can generate at least `steps_per_epoch * epochs` batches (in this case, 624 batches). You may need to use the repeat() function when building your dataset.\n"
     ]
    },
    {
     "data": {
      "text/plain": [
       "0.8958333134651184"
      ]
     },
     "execution_count": 12,
     "metadata": {},
     "output_type": "execute_result"
    }
   ],
   "source": [
    "''' evaluating model '''\n",
    "accuracy = model.evaluate_generator(tes_ds,624)[1]\n",
    "accuracy"
   ]
  },
  {
   "cell_type": "code",
   "execution_count": 13,
   "metadata": {
    "id": "U-jMdG-Vc1Gf"
   },
   "outputs": [],
   "source": [
    "''' unfreezing layers '''\n",
    "for layer in model1.layers:\n",
    "    layer.trainable = True"
   ]
  },
  {
   "cell_type": "code",
   "execution_count": 14,
   "metadata": {
    "id": "0a2-6NWgc7Mk"
   },
   "outputs": [],
   "source": [
    "'''Finetuning the model'''\n",
    "lr = 1e-5\n",
    "lr_schedule = tf.keras.optimizers.schedules.ExponentialDecay(lr, decay_steps=100000, decay_rate=0.96, staircase=True)\n",
    "\n",
    "''' compile the model '''\n",
    "model.compile(optimizer=tf.keras.optimizers.RMSprop(lr_schedule), loss=keras.losses.BinaryCrossentropy(from_logits=True),\n",
    "              metrics=[keras.metrics.BinaryAccuracy()])"
   ]
  },
  {
   "cell_type": "code",
   "execution_count": 16,
   "metadata": {
    "colab": {
     "base_uri": "https://localhost:8080/"
    },
    "id": "BactSF_3c9Yi",
    "outputId": "80f22124-6e60-4a51-9f7e-1c80c7f66ad3"
   },
   "outputs": [
    {
     "name": "stdout",
     "output_type": "stream",
     "text": [
      "Epoch 1/100\n"
     ]
    },
    {
     "name": "stderr",
     "output_type": "stream",
     "text": [
      "/usr/local/lib/python3.7/dist-packages/tensorflow/python/util/dispatch.py:1082: UserWarning: \"`binary_crossentropy` received `from_logits=True`, but the `output` argument was produced by a sigmoid or softmax activation and thus does not represent logits. Was this intended?\"\n",
      "  return dispatch_target(*args, **kwargs)\n"
     ]
    },
    {
     "name": "stdout",
     "output_type": "stream",
     "text": [
      "50/50 [==============================] - 17s 252ms/step - loss: 0.3284 - binary_accuracy: 0.8788 - val_loss: 1.2573 - val_binary_accuracy: 0.6875\n",
      "Epoch 2/100\n",
      "50/50 [==============================] - 13s 259ms/step - loss: 0.2413 - binary_accuracy: 0.9162 - val_loss: 0.2229 - val_binary_accuracy: 0.9375\n",
      "Epoch 3/100\n",
      "50/50 [==============================] - 14s 280ms/step - loss: 0.2364 - binary_accuracy: 0.9013 - val_loss: 1.2695 - val_binary_accuracy: 0.7500\n",
      "Epoch 4/100\n",
      "50/50 [==============================] - 13s 253ms/step - loss: 0.2305 - binary_accuracy: 0.9075 - val_loss: 0.5240 - val_binary_accuracy: 0.8125\n",
      "Epoch 5/100\n",
      "50/50 [==============================] - 13s 252ms/step - loss: 0.1819 - binary_accuracy: 0.9350 - val_loss: 0.5816 - val_binary_accuracy: 0.8750\n",
      "Epoch 6/100\n",
      "50/50 [==============================] - 13s 257ms/step - loss: 0.1907 - binary_accuracy: 0.9312 - val_loss: 0.8706 - val_binary_accuracy: 0.7500\n",
      "Epoch 7/100\n",
      "50/50 [==============================] - 13s 256ms/step - loss: 0.1616 - binary_accuracy: 0.9438 - val_loss: 0.5171 - val_binary_accuracy: 0.6875\n",
      "Epoch 8/100\n",
      "50/50 [==============================] - 13s 250ms/step - loss: 0.1630 - binary_accuracy: 0.9413 - val_loss: 0.4091 - val_binary_accuracy: 0.8125\n",
      "Epoch 9/100\n",
      "50/50 [==============================] - 13s 255ms/step - loss: 0.1638 - binary_accuracy: 0.9413 - val_loss: 1.0486 - val_binary_accuracy: 0.7500\n",
      "Epoch 10/100\n",
      "50/50 [==============================] - 13s 255ms/step - loss: 0.1445 - binary_accuracy: 0.9475 - val_loss: 0.6051 - val_binary_accuracy: 0.8750\n",
      "Epoch 11/100\n",
      "50/50 [==============================] - 13s 261ms/step - loss: 0.1455 - binary_accuracy: 0.9600 - val_loss: 0.7469 - val_binary_accuracy: 0.6875\n",
      "Epoch 12/100\n",
      "50/50 [==============================] - 13s 258ms/step - loss: 0.1293 - binary_accuracy: 0.9613 - val_loss: 0.6169 - val_binary_accuracy: 0.8125\n",
      "Epoch 13/100\n",
      "50/50 [==============================] - 12s 248ms/step - loss: 0.1730 - binary_accuracy: 0.9375 - val_loss: 0.2496 - val_binary_accuracy: 0.8125\n",
      "Epoch 14/100\n",
      "50/50 [==============================] - 13s 251ms/step - loss: 0.1335 - binary_accuracy: 0.9513 - val_loss: 0.4135 - val_binary_accuracy: 0.8125\n",
      "Epoch 15/100\n",
      "50/50 [==============================] - 13s 253ms/step - loss: 0.1350 - binary_accuracy: 0.9488 - val_loss: 0.3674 - val_binary_accuracy: 0.8125\n",
      "Epoch 16/100\n",
      "50/50 [==============================] - 13s 254ms/step - loss: 0.1101 - binary_accuracy: 0.9600 - val_loss: 0.2751 - val_binary_accuracy: 0.8750\n",
      "Epoch 17/100\n",
      "50/50 [==============================] - 13s 254ms/step - loss: 0.1189 - binary_accuracy: 0.9538 - val_loss: 0.2239 - val_binary_accuracy: 0.8750\n",
      "Epoch 18/100\n",
      "50/50 [==============================] - 12s 246ms/step - loss: 0.1144 - binary_accuracy: 0.9600 - val_loss: 0.1708 - val_binary_accuracy: 0.8750\n",
      "Epoch 19/100\n",
      "50/50 [==============================] - 13s 260ms/step - loss: 0.1051 - binary_accuracy: 0.9712 - val_loss: 0.2718 - val_binary_accuracy: 0.8750\n",
      "Epoch 20/100\n",
      "50/50 [==============================] - 13s 249ms/step - loss: 0.1056 - binary_accuracy: 0.9588 - val_loss: 0.4902 - val_binary_accuracy: 0.8125\n",
      "Epoch 21/100\n",
      "50/50 [==============================] - 13s 260ms/step - loss: 0.1197 - binary_accuracy: 0.9613 - val_loss: 0.3315 - val_binary_accuracy: 0.8750\n",
      "Epoch 22/100\n",
      "50/50 [==============================] - 13s 265ms/step - loss: 0.1113 - binary_accuracy: 0.9638 - val_loss: 0.2798 - val_binary_accuracy: 0.8750\n",
      "Epoch 23/100\n",
      "50/50 [==============================] - 13s 256ms/step - loss: 0.1047 - binary_accuracy: 0.9575 - val_loss: 0.4841 - val_binary_accuracy: 0.7500\n",
      "Epoch 24/100\n",
      "50/50 [==============================] - 12s 244ms/step - loss: 0.1233 - binary_accuracy: 0.9575 - val_loss: 0.2005 - val_binary_accuracy: 0.8750\n",
      "Epoch 25/100\n",
      "50/50 [==============================] - 12s 247ms/step - loss: 0.0940 - binary_accuracy: 0.9588 - val_loss: 0.4993 - val_binary_accuracy: 0.8125\n",
      "Epoch 26/100\n",
      "50/50 [==============================] - 13s 258ms/step - loss: 0.1062 - binary_accuracy: 0.9663 - val_loss: 0.7398 - val_binary_accuracy: 0.7500\n",
      "Epoch 27/100\n",
      "50/50 [==============================] - 13s 255ms/step - loss: 0.0929 - binary_accuracy: 0.9700 - val_loss: 0.1361 - val_binary_accuracy: 0.8750\n",
      "Epoch 28/100\n",
      "50/50 [==============================] - 13s 254ms/step - loss: 0.0919 - binary_accuracy: 0.9675 - val_loss: 0.7414 - val_binary_accuracy: 0.7500\n",
      "Epoch 29/100\n",
      "50/50 [==============================] - 13s 255ms/step - loss: 0.0964 - binary_accuracy: 0.9663 - val_loss: 0.1649 - val_binary_accuracy: 0.9375\n",
      "Epoch 30/100\n",
      "50/50 [==============================] - 13s 253ms/step - loss: 0.0974 - binary_accuracy: 0.9663 - val_loss: 0.3328 - val_binary_accuracy: 0.8750\n",
      "Epoch 31/100\n",
      "50/50 [==============================] - 13s 254ms/step - loss: 0.0959 - binary_accuracy: 0.9663 - val_loss: 0.7968 - val_binary_accuracy: 0.7500\n",
      "Epoch 32/100\n",
      "50/50 [==============================] - 13s 257ms/step - loss: 0.0930 - binary_accuracy: 0.9600 - val_loss: 0.8841 - val_binary_accuracy: 0.8125\n",
      "Epoch 33/100\n",
      "50/50 [==============================] - 13s 252ms/step - loss: 0.1128 - binary_accuracy: 0.9737 - val_loss: 0.0797 - val_binary_accuracy: 1.0000\n",
      "Epoch 34/100\n",
      "50/50 [==============================] - 13s 253ms/step - loss: 0.0965 - binary_accuracy: 0.9750 - val_loss: 0.0667 - val_binary_accuracy: 1.0000\n",
      "Epoch 35/100\n",
      "50/50 [==============================] - 12s 244ms/step - loss: 0.0912 - binary_accuracy: 0.9650 - val_loss: 0.0854 - val_binary_accuracy: 0.9375\n",
      "Epoch 36/100\n",
      "50/50 [==============================] - 13s 253ms/step - loss: 0.0747 - binary_accuracy: 0.9725 - val_loss: 0.0912 - val_binary_accuracy: 0.9375\n",
      "Epoch 37/100\n",
      "50/50 [==============================] - 13s 258ms/step - loss: 0.0794 - binary_accuracy: 0.9737 - val_loss: 0.1798 - val_binary_accuracy: 0.9375\n",
      "Epoch 38/100\n",
      "50/50 [==============================] - 13s 255ms/step - loss: 0.0787 - binary_accuracy: 0.9737 - val_loss: 0.0589 - val_binary_accuracy: 1.0000\n",
      "Epoch 39/100\n",
      "50/50 [==============================] - 13s 254ms/step - loss: 0.0899 - binary_accuracy: 0.9688 - val_loss: 0.0727 - val_binary_accuracy: 1.0000\n",
      "Epoch 40/100\n",
      "50/50 [==============================] - 13s 254ms/step - loss: 0.1171 - binary_accuracy: 0.9575 - val_loss: 0.1251 - val_binary_accuracy: 0.9375\n",
      "Epoch 41/100\n",
      "50/50 [==============================] - 12s 247ms/step - loss: 0.0760 - binary_accuracy: 0.9750 - val_loss: 0.2906 - val_binary_accuracy: 0.8750\n",
      "Epoch 42/100\n",
      "50/50 [==============================] - 13s 249ms/step - loss: 0.0815 - binary_accuracy: 0.9663 - val_loss: 0.2128 - val_binary_accuracy: 0.9375\n",
      "Epoch 43/100\n",
      "50/50 [==============================] - 13s 255ms/step - loss: 0.0653 - binary_accuracy: 0.9750 - val_loss: 0.0960 - val_binary_accuracy: 0.9375\n",
      "Epoch 44/100\n",
      "50/50 [==============================] - 13s 249ms/step - loss: 0.0580 - binary_accuracy: 0.9812 - val_loss: 0.2251 - val_binary_accuracy: 0.8750\n",
      "Epoch 45/100\n",
      "50/50 [==============================] - 13s 251ms/step - loss: 0.0773 - binary_accuracy: 0.9750 - val_loss: 0.7461 - val_binary_accuracy: 0.6250\n",
      "Epoch 46/100\n",
      "50/50 [==============================] - 13s 249ms/step - loss: 0.0942 - binary_accuracy: 0.9725 - val_loss: 0.0936 - val_binary_accuracy: 0.9375\n",
      "Epoch 47/100\n",
      "50/50 [==============================] - 13s 256ms/step - loss: 0.1026 - binary_accuracy: 0.9712 - val_loss: 0.0480 - val_binary_accuracy: 1.0000\n",
      "Epoch 48/100\n",
      "50/50 [==============================] - 13s 255ms/step - loss: 0.0737 - binary_accuracy: 0.9725 - val_loss: 0.1246 - val_binary_accuracy: 0.9375\n",
      "Epoch 49/100\n",
      "50/50 [==============================] - 13s 254ms/step - loss: 0.0896 - binary_accuracy: 0.9650 - val_loss: 0.1030 - val_binary_accuracy: 1.0000\n",
      "Epoch 50/100\n",
      "50/50 [==============================] - 13s 250ms/step - loss: 0.0809 - binary_accuracy: 0.9688 - val_loss: 0.1809 - val_binary_accuracy: 0.8750\n",
      "Epoch 51/100\n",
      "50/50 [==============================] - 13s 253ms/step - loss: 0.0797 - binary_accuracy: 0.9675 - val_loss: 0.0578 - val_binary_accuracy: 1.0000\n",
      "Epoch 52/100\n",
      "50/50 [==============================] - 13s 260ms/step - loss: 0.0679 - binary_accuracy: 0.9737 - val_loss: 0.0432 - val_binary_accuracy: 1.0000\n",
      "Epoch 53/100\n",
      "50/50 [==============================] - 13s 257ms/step - loss: 0.0841 - binary_accuracy: 0.9675 - val_loss: 0.0277 - val_binary_accuracy: 1.0000\n",
      "Epoch 54/100\n",
      "50/50 [==============================] - 13s 258ms/step - loss: 0.0675 - binary_accuracy: 0.9737 - val_loss: 0.0587 - val_binary_accuracy: 1.0000\n",
      "Epoch 55/100\n",
      "50/50 [==============================] - 13s 264ms/step - loss: 0.0739 - binary_accuracy: 0.9775 - val_loss: 0.0232 - val_binary_accuracy: 1.0000\n",
      "Epoch 56/100\n",
      "50/50 [==============================] - 13s 258ms/step - loss: 0.0613 - binary_accuracy: 0.9750 - val_loss: 0.0528 - val_binary_accuracy: 1.0000\n",
      "Epoch 57/100\n",
      "50/50 [==============================] - 13s 250ms/step - loss: 0.0674 - binary_accuracy: 0.9762 - val_loss: 0.2091 - val_binary_accuracy: 0.9375\n",
      "Epoch 58/100\n",
      "50/50 [==============================] - 13s 262ms/step - loss: 0.0615 - binary_accuracy: 0.9787 - val_loss: 0.8774 - val_binary_accuracy: 0.6250\n",
      "Epoch 59/100\n",
      "50/50 [==============================] - 13s 256ms/step - loss: 0.0505 - binary_accuracy: 0.9850 - val_loss: 0.0345 - val_binary_accuracy: 1.0000\n",
      "Epoch 60/100\n",
      "50/50 [==============================] - 13s 254ms/step - loss: 0.0696 - binary_accuracy: 0.9800 - val_loss: 0.0125 - val_binary_accuracy: 1.0000\n",
      "Epoch 61/100\n",
      "50/50 [==============================] - 13s 251ms/step - loss: 0.0617 - binary_accuracy: 0.9837 - val_loss: 0.0526 - val_binary_accuracy: 1.0000\n",
      "Epoch 62/100\n",
      "50/50 [==============================] - 13s 250ms/step - loss: 0.0873 - binary_accuracy: 0.9737 - val_loss: 0.2772 - val_binary_accuracy: 0.8750\n",
      "Epoch 63/100\n",
      "50/50 [==============================] - 13s 262ms/step - loss: 0.0657 - binary_accuracy: 0.9800 - val_loss: 0.1903 - val_binary_accuracy: 0.9375\n",
      "Epoch 64/100\n",
      "50/50 [==============================] - 13s 254ms/step - loss: 0.0943 - binary_accuracy: 0.9700 - val_loss: 0.1266 - val_binary_accuracy: 0.9375\n",
      "Epoch 65/100\n",
      "50/50 [==============================] - 13s 256ms/step - loss: 0.0700 - binary_accuracy: 0.9775 - val_loss: 0.0808 - val_binary_accuracy: 1.0000\n",
      "Epoch 66/100\n",
      "50/50 [==============================] - 13s 257ms/step - loss: 0.0592 - binary_accuracy: 0.9837 - val_loss: 0.6379 - val_binary_accuracy: 0.6875\n",
      "Epoch 67/100\n",
      "50/50 [==============================] - 13s 254ms/step - loss: 0.0781 - binary_accuracy: 0.9700 - val_loss: 0.1410 - val_binary_accuracy: 1.0000\n",
      "Epoch 68/100\n",
      "50/50 [==============================] - 13s 256ms/step - loss: 0.0597 - binary_accuracy: 0.9825 - val_loss: 0.3462 - val_binary_accuracy: 0.8125\n",
      "Epoch 69/100\n",
      "50/50 [==============================] - 13s 254ms/step - loss: 0.0850 - binary_accuracy: 0.9688 - val_loss: 0.0692 - val_binary_accuracy: 1.0000\n",
      "Epoch 70/100\n",
      "50/50 [==============================] - 13s 251ms/step - loss: 0.0529 - binary_accuracy: 0.9825 - val_loss: 0.3533 - val_binary_accuracy: 0.7500\n",
      "Epoch 71/100\n",
      "50/50 [==============================] - 13s 253ms/step - loss: 0.0691 - binary_accuracy: 0.9775 - val_loss: 0.0850 - val_binary_accuracy: 1.0000\n",
      "Epoch 72/100\n",
      "50/50 [==============================] - 13s 262ms/step - loss: 0.0610 - binary_accuracy: 0.9800 - val_loss: 0.1981 - val_binary_accuracy: 0.8750\n",
      "Epoch 73/100\n",
      "50/50 [==============================] - 13s 255ms/step - loss: 0.0688 - binary_accuracy: 0.9712 - val_loss: 0.0840 - val_binary_accuracy: 1.0000\n",
      "Epoch 74/100\n",
      "50/50 [==============================] - 13s 256ms/step - loss: 0.0577 - binary_accuracy: 0.9837 - val_loss: 0.0712 - val_binary_accuracy: 1.0000\n",
      "Epoch 75/100\n",
      "50/50 [==============================] - 13s 252ms/step - loss: 0.0558 - binary_accuracy: 0.9787 - val_loss: 0.0505 - val_binary_accuracy: 1.0000\n",
      "Epoch 76/100\n",
      "50/50 [==============================] - 13s 254ms/step - loss: 0.0641 - binary_accuracy: 0.9750 - val_loss: 0.0428 - val_binary_accuracy: 1.0000\n",
      "Epoch 77/100\n",
      "50/50 [==============================] - 13s 259ms/step - loss: 0.0869 - binary_accuracy: 0.9675 - val_loss: 0.0579 - val_binary_accuracy: 1.0000\n",
      "Epoch 78/100\n",
      "50/50 [==============================] - 13s 255ms/step - loss: 0.0477 - binary_accuracy: 0.9850 - val_loss: 0.6228 - val_binary_accuracy: 0.8125\n",
      "Epoch 79/100\n",
      "50/50 [==============================] - 13s 252ms/step - loss: 0.0832 - binary_accuracy: 0.9750 - val_loss: 0.3025 - val_binary_accuracy: 0.8125\n",
      "Epoch 80/100\n",
      "50/50 [==============================] - 13s 255ms/step - loss: 0.0642 - binary_accuracy: 0.9750 - val_loss: 0.5734 - val_binary_accuracy: 0.8750\n",
      "Epoch 81/100\n",
      "50/50 [==============================] - 13s 267ms/step - loss: 0.0841 - binary_accuracy: 0.9762 - val_loss: 0.1415 - val_binary_accuracy: 0.9375\n",
      "Epoch 82/100\n",
      "50/50 [==============================] - 13s 256ms/step - loss: 0.0551 - binary_accuracy: 0.9875 - val_loss: 0.0880 - val_binary_accuracy: 0.9375\n",
      "Epoch 83/100\n",
      "50/50 [==============================] - 13s 257ms/step - loss: 0.0646 - binary_accuracy: 0.9800 - val_loss: 0.0728 - val_binary_accuracy: 1.0000\n",
      "Epoch 84/100\n",
      "50/50 [==============================] - 13s 251ms/step - loss: 0.0762 - binary_accuracy: 0.9800 - val_loss: 0.4932 - val_binary_accuracy: 0.8125\n",
      "Epoch 85/100\n",
      "50/50 [==============================] - 13s 249ms/step - loss: 0.0641 - binary_accuracy: 0.9800 - val_loss: 0.0934 - val_binary_accuracy: 0.9375\n",
      "Epoch 86/100\n",
      "50/50 [==============================] - 13s 253ms/step - loss: 0.0796 - binary_accuracy: 0.9725 - val_loss: 0.0936 - val_binary_accuracy: 0.9375\n",
      "Epoch 87/100\n",
      "50/50 [==============================] - 13s 251ms/step - loss: 0.0407 - binary_accuracy: 0.9787 - val_loss: 1.0278 - val_binary_accuracy: 0.8125\n",
      "Epoch 88/100\n",
      "50/50 [==============================] - 13s 251ms/step - loss: 0.0743 - binary_accuracy: 0.9750 - val_loss: 0.0866 - val_binary_accuracy: 0.9375\n",
      "Epoch 89/100\n",
      "50/50 [==============================] - 13s 259ms/step - loss: 0.0500 - binary_accuracy: 0.9862 - val_loss: 0.3532 - val_binary_accuracy: 0.8125\n",
      "Epoch 90/100\n",
      "50/50 [==============================] - 13s 252ms/step - loss: 0.0576 - binary_accuracy: 0.9787 - val_loss: 0.1559 - val_binary_accuracy: 0.9375\n",
      "Epoch 91/100\n",
      "50/50 [==============================] - 13s 254ms/step - loss: 0.0571 - binary_accuracy: 0.9812 - val_loss: 0.1796 - val_binary_accuracy: 0.8750\n",
      "Epoch 92/100\n",
      "50/50 [==============================] - 13s 251ms/step - loss: 0.0600 - binary_accuracy: 0.9800 - val_loss: 0.0594 - val_binary_accuracy: 1.0000\n",
      "Epoch 93/100\n",
      "50/50 [==============================] - 13s 252ms/step - loss: 0.0736 - binary_accuracy: 0.9825 - val_loss: 0.0438 - val_binary_accuracy: 1.0000\n",
      "Epoch 94/100\n",
      "50/50 [==============================] - 13s 250ms/step - loss: 0.0675 - binary_accuracy: 0.9787 - val_loss: 0.0730 - val_binary_accuracy: 1.0000\n",
      "Epoch 95/100\n",
      "50/50 [==============================] - 13s 258ms/step - loss: 0.0690 - binary_accuracy: 0.9787 - val_loss: 0.5058 - val_binary_accuracy: 0.7500\n",
      "Epoch 96/100\n",
      "50/50 [==============================] - 13s 260ms/step - loss: 0.0648 - binary_accuracy: 0.9775 - val_loss: 0.1829 - val_binary_accuracy: 0.9375\n",
      "Epoch 97/100\n",
      "50/50 [==============================] - 13s 258ms/step - loss: 0.0592 - binary_accuracy: 0.9775 - val_loss: 0.1643 - val_binary_accuracy: 0.9375\n",
      "Epoch 98/100\n",
      "50/50 [==============================] - 13s 253ms/step - loss: 0.0613 - binary_accuracy: 0.9775 - val_loss: 0.0950 - val_binary_accuracy: 0.9375\n",
      "Epoch 99/100\n",
      "50/50 [==============================] - 13s 259ms/step - loss: 0.0772 - binary_accuracy: 0.9775 - val_loss: 0.0204 - val_binary_accuracy: 1.0000\n",
      "Epoch 100/100\n",
      "50/50 [==============================] - 13s 253ms/step - loss: 0.0532 - binary_accuracy: 0.9800 - val_loss: 0.0638 - val_binary_accuracy: 0.9375\n"
     ]
    },
    {
     "data": {
      "text/plain": [
       "<keras.callbacks.History at 0x7fb268da6b10>"
      ]
     },
     "execution_count": 16,
     "metadata": {},
     "output_type": "execute_result"
    }
   ],
   "source": [
    "''' training '''\n",
    "model.fit(train_ds, steps_per_epoch = 50, epochs=100, validation_data=val_ds)"
   ]
  },
  {
   "cell_type": "code",
   "execution_count": 19,
   "metadata": {
    "colab": {
     "base_uri": "https://localhost:8080/"
    },
    "id": "CfgFFnKudAr8",
    "outputId": "ceeeac4d-a08d-4140-ba43-b7562c43ac64"
   },
   "outputs": [
    {
     "name": "stderr",
     "output_type": "stream",
     "text": [
      "/usr/local/lib/python3.7/dist-packages/ipykernel_launcher.py:2: UserWarning: `Model.evaluate_generator` is deprecated and will be removed in a future version. Please use `Model.evaluate`, which supports generators.\n",
      "  \n",
      "WARNING:tensorflow:Your input ran out of data; interrupting training. Make sure that your dataset or generator can generate at least `steps_per_epoch * epochs` batches (in this case, 624 batches). You may need to use the repeat() function when building your dataset.\n"
     ]
    },
    {
     "data": {
      "text/plain": [
       "0.932692289352417"
      ]
     },
     "execution_count": 19,
     "metadata": {},
     "output_type": "execute_result"
    }
   ],
   "source": [
    "''' evaluating model '''\n",
    "final_acc = model.evaluate_generator(tes_ds,624)[1]\n",
    "final_acc"
   ]
  },
  {
   "cell_type": "code",
   "execution_count": 20,
   "metadata": {
    "colab": {
     "base_uri": "https://localhost:8080/",
     "height": 311
    },
    "id": "71RvNg7ndEW9",
    "outputId": "287ed9b3-d2eb-4bea-e1d2-7647a6076eeb"
   },
   "outputs": [
    {
     "data": {
      "image/png": "[encoded data removed]",
      "text/plain": [
       "<Figure size 1080x720 with 2 Axes>"
      ]
     },
     "metadata": {
      "needs_background": "light"
     },
     "output_type": "display_data"
    }
   ],
   "source": [
    "''' Training Accuracy and Validaion Accuracy graph '''\n",
    "plt.figure(figsize=(15,10))\n",
    "plt.subplot(2, 2, 1)\n",
    "plt.plot(history.history['accuracy'], label = \"Training accuracy\")\n",
    "plt.plot(history.history['val_accuracy'], label=\"Validation accuracy\")\n",
    "plt.legend()\n",
    "plt.title(\"Training vs validation accuracy\")\n",
    "\n",
    "''' Training Loss and Validation Loss graph '''\n",
    "plt.subplot(2,2,2)\n",
    "plt.plot(history.history['loss'], label = \"Training loss\")\n",
    "plt.plot(history.history['val_loss'], label=\"Validation loss\")\n",
    "plt.legend()\n",
    "plt.title(\"Training vs validation loss\")\n",
    "\n",
    "plt.show()"
   ]
  },
  {
   "cell_type": "code",
   "execution_count": 22,
   "metadata": {
    "id": "Ozq971VUmDZJ"
   },
   "outputs": [],
   "source": [
    "model.save('model_export.h5')"
   ]
  }
 ],
 "metadata": {
  "accelerator": "GPU",
  "colab": {
   "collapsed_sections": [],
   "provenance": []
  },
  "kernelspec": {
   "display_name": "Python 3 (ipykernel)",
   "language": "python",
   "name": "python3"
  },
  "language_info": {
   "codemirror_mode": {
    "name": "ipython",
    "version": 3
   },
   "file_extension": ".py",
   "mimetype": "text/x-python",
   "name": "python",
   "nbconvert_exporter": "python",
   "pygments_lexer": "ipython3",
   "version": "3.8.13"
  }
 },
 "nbformat": 4,
 "nbformat_minor": 1
}
